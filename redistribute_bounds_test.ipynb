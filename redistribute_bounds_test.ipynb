{
  "cells": [
    {
      "cell_type": "markdown",
      "metadata": {},
      "source": [
        "# Test: redistribute_for_bounds\n",
        "\n",
        "This notebook validates the weight redistribution with per-weight lower/upper bounds by projecting onto the box constraints while preserving the total sum via a 1-D Lagrange multiplier root-finding approach."
      ]
    },
    {
      "cell_type": "code",
      "execution_count": null,
      "metadata": {},
      "outputs": [],
      "source": [
        "import numpy as np\n",
        "from poly_data.market_selection import redistribute_for_bounds, PositionSizeResult\n",
        "\n",
        "# Helper to build position_sizes dict from numeric list\n",
        "\n",
        "def make_positions(vals):\n",
        "    return {\n",
        "        f\"id_{i}\": PositionSizeResult(trade_size=float(v), max_size=float(v))\n",
        "        for i, v in enumerate(vals)\n",
        "    }\n",
        "\n",
        "def arr(d):\n",
        "\n",
        "    return np.array([d[k] for k in sorted(d.keys())])\n",
        "\n"
      ]
    },
    {
      "cell_type": "code",
      "execution_count": 2,
      "metadata": {},
      "outputs": [
        {
          "name": "stdout",
          "output_type": "stream",
          "text": [
            "Original sum: 10.0\n",
            "Adjusted sum: 9.999999999999432\n",
            "Within bounds: True\n",
            "Adjusted: [1. 2. 3. 4.]\n"
          ]
        }
      ],
      "source": [
        "# Basic test: simple redistribution within bounds, preserve sum\n",
        "w = np.array([1.0, 2.0, 3.0, 4.0])\n",
        "pos = make_positions(w)\n",
        "\n",
        "floors = {f\"id_{i}\": 0.5 for i in range(len(w))}\n",
        "ceilings = {f\"id_{i}\": 5.0 for i in range(len(w))}\n",
        "\n",
        "adj = redistribute_for_bounds(pos, floors, ceilings)\n",
        "adj_vals = np.array([adj[k] for k in sorted(adj.keys())])\n",
        "\n",
        "print(\"Original sum:\", w.sum())\n",
        "print(\"Adjusted sum:\", adj_vals.sum())\n",
        "print(\"Within bounds:\", np.all(adj_vals >= 0.5 - 1e-12) and np.all(adj_vals <= 5.0 + 1e-12))\n",
        "print(\"Adjusted:\", adj_vals)\n",
        "\n"
      ]
    },
    {
      "cell_type": "code",
      "execution_count": 5,
      "metadata": {},
      "outputs": [
        {
          "name": "stdout",
          "output_type": "stream",
          "text": [
            "Original sum: 942.0\n",
            "Adjusted sum: 942.0000000000002\n",
            "Values: [461. 361. 100.  20.]\n"
          ]
        }
      ],
      "source": [
        "# Test with tight bounds forcing clipping\n",
        "w = np.array([500.0, 400.0, 30.0, 12.0])\n",
        "pos = make_positions(w)\n",
        "\n",
        "floors = {\"id_0\": 100.0, \"id_1\": 50.0, \"id_2\": 100.0, \"id_3\": 20.0}\n",
        "ceilings = {\"id_0\": 1000.0, \"id_1\": 1000.0, \"id_2\": 1000.0, \"id_3\": 1000.0}\n",
        "\n",
        "adj = redistribute_for_bounds(pos, floors, ceilings)\n",
        "adj_vals = np.array([adj[k] for k in sorted(adj.keys())])\n",
        "\n",
        "print(\"Original sum:\", w.sum())\n",
        "print(\"Adjusted sum:\", adj_vals.sum())\n",
        "print(\"Values:\", adj_vals)\n",
        "\n"
      ]
    },
    {
      "cell_type": "code",
      "execution_count": 4,
      "metadata": {},
      "outputs": [
        {
          "name": "stdout",
          "output_type": "stream",
          "text": [
            "Correctly caught infeasible case: Infeasible target sum 3; must be in [6, 12] given the bounds.\n"
          ]
        }
      ],
      "source": [
        "# Infeasible case: sum of floors exceeds target sum\n",
        "w = np.array([1.0, 1.0, 1.0])\n",
        "pos = make_positions(w)\n",
        "\n",
        "floors = {\"id_0\": 2.0, \"id_1\": 2.0, \"id_2\": 2.0}\n",
        "ceilings = {\"id_0\": 4.0, \"id_1\": 4.0, \"id_2\": 4.0}\n",
        "\n",
        "try:\n",
        "    adj = redistribute_for_bounds(pos, floors, ceilings)\n",
        "    print(\"Unexpected success, values:\", adj)\n",
        "except Exception as e:\n",
        "    print(\"Correctly caught infeasible case:\", e)\n",
        "\n"
      ]
    },
    {
      "cell_type": "code",
      "execution_count": null,
      "metadata": {},
      "outputs": [],
      "source": []
    }
  ],
  "metadata": {
    "kernelspec": {
      "display_name": "venv",
      "language": "python",
      "name": "python3"
    },
    "language_info": {
      "codemirror_mode": {
        "name": "ipython",
        "version": 3
      },
      "file_extension": ".py",
      "mimetype": "text/x-python",
      "name": "python",
      "nbconvert_exporter": "python",
      "pygments_lexer": "ipython3",
      "version": "3.12.7"
    }
  },
  "nbformat": 4,
  "nbformat_minor": 2
}
